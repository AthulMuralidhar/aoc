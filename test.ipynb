{
 "cells": [
  {
   "cell_type": "code",
   "execution_count": 1,
   "metadata": {},
   "outputs": [],
   "source": [
    "\"\"\"\n",
    "test inp: 8*8 here but in reality 1000*1000\n",
    "#1 @ 1,3: 4x4\n",
    "#2 @ 3,1: 4x4\n",
    "#3 @ 5,5: 2x2\n",
    "\n",
    "test out:\n",
    "........\n",
    "...2222.\n",
    "...2222.\n",
    ".11XX22.\n",
    ".11XX22.\n",
    ".111133.\n",
    ".111133.\n",
    "........\n",
    "\n",
    "\"\"\"\n",
    "\n"
   ]
  },
  {
   "cell_type": "code",
   "execution_count": 15,
   "metadata": {},
   "outputs": [
    {
     "name": "stdout",
     "output_type": "stream",
     "text": [
      "{'#1 @ 1,3': ' 4x4', '#2 @ 3,1': ' 4x4', '#3 @ 5,5': ' 2x2'}\n",
      "[[0. 0. 0. 0. 0. 0. 0. 0.]\n",
      " [0. 0. 0. 0. 0. 0. 0. 0.]\n",
      " [0. 0. 0. 0. 0. 0. 0. 0.]\n",
      " [0. 0. 0. 0. 0. 0. 0. 0.]\n",
      " [0. 0. 0. 0. 0. 0. 0. 0.]\n",
      " [0. 0. 0. 0. 0. 0. 0. 0.]\n",
      " [0. 0. 0. 0. 0. 0. 0. 0.]\n",
      " [0. 0. 0. 0. 0. 0. 0. 0.]]\n",
      "\n",
      " 4x4\n",
      "[' 1', '3']\n"
     ]
    },
    {
     "ename": "IndexError",
     "evalue": "only integers, slices (`:`), ellipsis (`...`), numpy.newaxis (`None`) and integer or boolean arrays are valid indices",
     "output_type": "error",
     "traceback": [
      "\u001b[0;31m---------------------------------------------------------------------------\u001b[0m",
      "\u001b[0;31mIndexError\u001b[0m                                Traceback (most recent call last)",
      "\u001b[0;32m<ipython-input-15-9c486edbe995>\u001b[0m in \u001b[0;36m<module>\u001b[0;34m()\u001b[0m\n\u001b[1;32m     25\u001b[0m     \u001b[0mco_ordinates\u001b[0m \u001b[0;34m=\u001b[0m \u001b[0mi\u001b[0m\u001b[0;34m.\u001b[0m\u001b[0msplit\u001b[0m\u001b[0;34m(\u001b[0m\u001b[0;34m'@'\u001b[0m\u001b[0;34m)\u001b[0m\u001b[0;34m[\u001b[0m\u001b[0;36m1\u001b[0m\u001b[0;34m]\u001b[0m\u001b[0;34m\u001b[0m\u001b[0m\n\u001b[1;32m     26\u001b[0m     \u001b[0mprint\u001b[0m\u001b[0;34m(\u001b[0m\u001b[0;34m(\u001b[0m\u001b[0mdict1\u001b[0m\u001b[0;34m[\u001b[0m\u001b[0mi\u001b[0m\u001b[0;34m]\u001b[0m\u001b[0;34m)\u001b[0m\u001b[0;34m)\u001b[0m\u001b[0;34m\u001b[0m\u001b[0m\n\u001b[0;32m---> 27\u001b[0;31m     \u001b[0;32mif\u001b[0m \u001b[0mmatrix\u001b[0m\u001b[0;34m[\u001b[0m\u001b[0mmakedem\u001b[0m\u001b[0;34m(\u001b[0m\u001b[0mco_ordinates\u001b[0m\u001b[0;34m,\u001b[0m\u001b[0;34m','\u001b[0m\u001b[0;34m)\u001b[0m\u001b[0;34m]\u001b[0m \u001b[0;34m==\u001b[0m \u001b[0;36m0\u001b[0m\u001b[0;34m:\u001b[0m\u001b[0;34m\u001b[0m\u001b[0m\n\u001b[0m\u001b[1;32m     28\u001b[0m         \u001b[0mrow\u001b[0m\u001b[0;34m,\u001b[0m\u001b[0mclm\u001b[0m \u001b[0;34m=\u001b[0m \u001b[0mmakedem\u001b[0m\u001b[0;34m(\u001b[0m\u001b[0mco_ordinates\u001b[0m\u001b[0;34m,\u001b[0m\u001b[0;34m','\u001b[0m\u001b[0;34m)\u001b[0m\u001b[0;34m\u001b[0m\u001b[0m\n\u001b[1;32m     29\u001b[0m         \u001b[0mdem1\u001b[0m\u001b[0;34m,\u001b[0m\u001b[0mdem2\u001b[0m \u001b[0;34m=\u001b[0m \u001b[0mmakedem\u001b[0m\u001b[0;34m(\u001b[0m\u001b[0mdict1\u001b[0m\u001b[0;34m[\u001b[0m\u001b[0mi\u001b[0m\u001b[0;34m]\u001b[0m\u001b[0;34m,\u001b[0m\u001b[0;34m'x'\u001b[0m\u001b[0;34m)\u001b[0m\u001b[0;34m\u001b[0m\u001b[0m\n",
      "\u001b[0;31mIndexError\u001b[0m: only integers, slices (`:`), ellipsis (`...`), numpy.newaxis (`None`) and integer or boolean arrays are valid indices"
     ]
    }
   ],
   "source": [
    "data = [ '#1 @ 1,3: 4x4',\n",
    "'#2 @ 3,1: 4x4',\n",
    "'#3 @ 5,5: 2x2']\n",
    "\n",
    "import numpy as np\n",
    "\n",
    "def makedem(coordinates,splitter):\n",
    "    i = co_ordinates.split(splitter)\n",
    "    print(i)\n",
    "    j = int(co_ordinates.split(splitter)[0])\n",
    "    return i,j\n",
    "\n",
    "matrix = np.zeros((8,8))\n",
    "\n",
    "dict1 = {}\n",
    "for i in data:\n",
    "    dict1[i.split(':')[0]] = i.split(':')[1]\n",
    "\n",
    "print(dict1)\n",
    "print(matrix)\n",
    "index_counter = 0\n",
    "print()\n",
    "for i in dict1.keys():\n",
    "    index_counter +=1\n",
    "    co_ordinates = i.split('@')[1]\n",
    "    print((dict1[i]))\n",
    "    if matrix[makedem(co_ordinates,',')] == 0:\n",
    "        row,clm = makedem(co_ordinates,',')\n",
    "        dem1,dem2 = makedem(dict1[i],'x')\n",
    "        while row < (row+dem1):\n",
    "            while clm < (dem2+clm):\n",
    "                matrix[row,clm] = index_counter\n",
    "                clm +=1\n",
    "            row+=1\n",
    "\n",
    "print(matrix)\n",
    "        \n",
    "        "
   ]
  },
  {
   "cell_type": "code",
   "execution_count": 4,
   "metadata": {},
   "outputs": [
    {
     "name": "stdout",
     "output_type": "stream",
     "text": [
      "!!!!\n",
      "!!!!\n",
      "!!!!\n",
      "!!!!\n",
      "0.0\n"
     ]
    }
   ],
   "source": [
    "# make a 4x4 matrix given string 4x4\n",
    "import numpy as np\n",
    "\n",
    "def makematrix(matrix,printer):\n",
    "    row = int(matrix.split('x')[0])\n",
    "    colmn = int(matrix.split('x')[1])\n",
    "    for i in range(row):\n",
    "        for j in range(colmn):\n",
    "            print(printer,end='')\n",
    "        print()\n",
    "\n",
    "mat = '4x4'\n",
    "embed = np.zeros((8,8))\n",
    "makematrix(mat,\"!\")\n",
    "print(embed[2,3])"
   ]
  },
  {
   "cell_type": "code",
   "execution_count": 5,
   "metadata": {},
   "outputs": [
    {
     "ename": "ValueError",
     "evalue": "invalid literal for int() with base 10: '2,3'",
     "output_type": "error",
     "traceback": [
      "\u001b[0;31m---------------------------------------------------------------------------\u001b[0m",
      "\u001b[0;31mValueError\u001b[0m                                Traceback (most recent call last)",
      "\u001b[0;32m<ipython-input-5-75adead39f01>\u001b[0m in \u001b[0;36m<module>\u001b[0;34m()\u001b[0m\n\u001b[1;32m      1\u001b[0m \u001b[0ma\u001b[0m \u001b[0;34m=\u001b[0m \u001b[0;34m'2,3'\u001b[0m\u001b[0;34m\u001b[0m\u001b[0m\n\u001b[0;32m----> 2\u001b[0;31m \u001b[0mprint\u001b[0m\u001b[0;34m(\u001b[0m\u001b[0mint\u001b[0m\u001b[0;34m(\u001b[0m\u001b[0ma\u001b[0m\u001b[0;34m)\u001b[0m\u001b[0;34m)\u001b[0m\u001b[0;34m\u001b[0m\u001b[0m\n\u001b[0m",
      "\u001b[0;31mValueError\u001b[0m: invalid literal for int() with base 10: '2,3'"
     ]
    }
   ],
   "source": [
    "a = '2,3'\n",
    "print(int(a))"
   ]
  },
  {
   "cell_type": "code",
   "execution_count": null,
   "metadata": {},
   "outputs": [],
   "source": []
  }
 ],
 "metadata": {
  "kernelspec": {
   "display_name": "Python 3",
   "language": "python",
   "name": "python3"
  },
  "language_info": {
   "codemirror_mode": {
    "name": "ipython",
    "version": 3
   },
   "file_extension": ".py",
   "mimetype": "text/x-python",
   "name": "python",
   "nbconvert_exporter": "python",
   "pygments_lexer": "ipython3",
   "version": "3.7.0"
  }
 },
 "nbformat": 4,
 "nbformat_minor": 2
}
