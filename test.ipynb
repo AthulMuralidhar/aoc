{
 "cells": [
  {
   "cell_type": "code",
   "execution_count": 1,
   "metadata": {},
   "outputs": [
    {
     "data": {
      "text/plain": [
       "\"\\ninput: dabAcCaCBAcCcaDA\\n\\ndabAcCaCBAcCcaDA  The first 'cC' is removed.\\ndabAaCBAcCcaDA    This creates 'Aa', which is removed.\\ndabCBAcCcaDA      Either 'cC' or 'Cc' are removed (the result is the same).\\ndabCBAcaDA        No further actions can be taken.\\n\\noutput: dabCBAcaDA (actully then length of this)\\n\""
      ]
     },
     "execution_count": 1,
     "metadata": {},
     "output_type": "execute_result"
    }
   ],
   "source": [
    "\"\"\"\n",
    "input:\n",
    "\n",
    "1, 1\n",
    "1, 6\n",
    "8, 3\n",
    "3, 4\n",
    "5, 5\n",
    "8, 9\n",
    "\n",
    "\n",
    "\n",
    "output: \n",
    "\n",
    "..........\n",
    ".A........\n",
    "..........\n",
    "........C.\n",
    "...D......\n",
    ".....E....\n",
    ".B........\n",
    "..........\n",
    "..........\n",
    "........F.\n",
    "\n",
    "aaaaa.cccc\n",
    "aAaaa.cccc\n",
    "aaaddecccc\n",
    "aadddeccCc\n",
    "..dDdeeccc\n",
    "bb.deEeecc\n",
    "bBb.eeee..\n",
    "bbb.eeefff\n",
    "bbb.eeffff\n",
    "bbb.ffffFf\n",
    "\"\"\""
   ]
  },
  {
   "cell_type": "code",
   "execution_count": 25,
   "metadata": {},
   "outputs": [
    {
     "name": "stdout",
     "output_type": "stream",
     "text": [
      "[[0. 0. 0. 0. 0. 0. 0. 0. 0.]\n",
      " [0. 0. 0. 0. 0. 0. 0. 0. 0.]\n",
      " [0. 0. 0. 0. 0. 0. 0. 0. 0.]\n",
      " [0. 0. 0. 0. 0. 0. 0. 0. 0.]\n",
      " [0. 0. 0. 0. 0. 0. 0. 0. 0.]\n",
      " [0. 0. 0. 0. 0. 0. 0. 0. 0.]\n",
      " [0. 0. 0. 0. 0. 0. 0. 0. 0.]\n",
      " [0. 0. 0. 0. 0. 0. 0. 0. 0.]\n",
      " [0. 0. 0. 0. 0. 0. 0. 0. 0.]]\n"
     ]
    }
   ],
   "source": [
    "import numpy as np\n",
    "\"\"\"\n",
    "0 = A. 1=B and so on\n",
    "\"\"\"\n",
    "\n",
    "data = ['1, 1','1, 6','8, 3','3, 4','5, 5','8, 9']\n",
    "data = data[0]\n",
    "data = list(map(int,data.split(',')))\n",
    "\n",
    "max_length = (9,9)\n",
    "matrix = np.zeros(max_length)\n",
    "# print(matrix)\n",
    "    \n",
    "counter = 0\n",
    "\n",
    "for i in range(max_length[0]):\n",
    "    for j in range(max_length[1]):\n",
    "        if i == data[1] and j == data[0]:\n",
    "            matrix[i][j] = counter\n",
    "            counter +=1\n",
    "\n",
    "print(matrix)"
   ]
  },
  {
   "cell_type": "code",
   "execution_count": 16,
   "metadata": {},
   "outputs": [
    {
     "name": "stdout",
     "output_type": "stream",
     "text": [
      ".........\n",
      ".A\n",
      "........\n",
      ".........\n",
      ".........\n",
      ".........\n",
      ".........\n",
      ".........\n",
      ".........\n",
      ".........\n",
      ".........\n",
      "......A\n",
      "...\n",
      ".........\n",
      ".........\n",
      ".........\n",
      ".........\n",
      ".........\n",
      ".........\n",
      ".........\n"
     ]
    }
   ],
   "source": [
    "import string\n",
    "\n",
    "\n",
    "\n",
    "def printer(data):\n",
    "    \n",
    "    counter = 0\n",
    "\n",
    "    for i in range(max_length[0]):\n",
    "        for j in range(max_length[1]):\n",
    "            if i == data[0] and j == data[1]:\n",
    "                print(string.ascii_uppercase[counter])\n",
    "                counter +=1\n",
    "\n",
    "            print('.',end='')\n",
    "        print()\n",
    "        \n",
    "data = ['1, 1','1, 6','8, 3','3, 4','5, 5','8, 9']\n",
    "printer(data)"
   ]
  }
 ],
 "metadata": {
  "kernelspec": {
   "display_name": "Python 3",
   "language": "python",
   "name": "python3"
  },
  "language_info": {
   "codemirror_mode": {
    "name": "ipython",
    "version": 3
   },
   "file_extension": ".py",
   "mimetype": "text/x-python",
   "name": "python",
   "nbconvert_exporter": "python",
   "pygments_lexer": "ipython3",
   "version": "3.7.0"
  }
 },
 "nbformat": 4,
 "nbformat_minor": 2
}
