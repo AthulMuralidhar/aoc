{
 "cells": [
  {
   "cell_type": "code",
   "execution_count": 1,
   "metadata": {},
   "outputs": [],
   "source": [
    "\"\"\"\n",
    "test inp: 8*8 here but in reality 1000*1000\n",
    "#1 @ 1,3: 4x4\n",
    "#2 @ 3,1: 4x4\n",
    "#3 @ 5,5: 2x2\n",
    "\n",
    "test out:\n",
    "........\n",
    "...2222.\n",
    "...2222.\n",
    ".11XX22.\n",
    ".11XX22.\n",
    ".111133.\n",
    ".111133.\n",
    "........\n",
    "\n",
    "\"\"\"\n",
    "\n"
   ]
  },
  {
   "cell_type": "code",
   "execution_count": 42,
   "metadata": {},
   "outputs": [
    {
     "name": "stdout",
     "output_type": "stream",
     "text": [
      "{'#1 @ 1,3': ' 4x4', '#2 @ 3,1': ' 4x4', '#3 @ 5,5': ' 2x2'}\n",
      "[[0. 0. 0. 0. 0. 0. 0. 0.]\n",
      " [0. 0. 0. 0. 0. 0. 0. 0.]\n",
      " [0. 0. 0. 0. 0. 0. 0. 0.]\n",
      " [0. 0. 0. 0. 0. 0. 0. 0.]\n",
      " [0. 0. 0. 0. 0. 0. 0. 0.]\n",
      " [0. 0. 0. 0. 0. 0. 0. 0.]\n",
      " [0. 0. 0. 0. 0. 0. 0. 0.]\n",
      " [0. 0. 0. 0. 0. 0. 0. 0.]]\n",
      "\n",
      "[[0. 0. 0. 0. 0. 0. 0. 0.]\n",
      " [0. 0. 0. 2. 0. 0. 0. 0.]\n",
      " [0. 0. 0. 0. 0. 0. 0. 0.]\n",
      " [0. 1. 0. 0. 0. 0. 0. 0.]\n",
      " [0. 0. 0. 0. 0. 0. 0. 0.]\n",
      " [0. 0. 0. 0. 0. 3. 0. 0.]\n",
      " [0. 0. 0. 0. 0. 0. 0. 0.]\n",
      " [0. 0. 0. 0. 0. 0. 0. 0.]]\n"
     ]
    }
   ],
   "source": [
    "data = [ '#1 @ 1,3: 4x4',\n",
    "'#2 @ 3,1: 4x4',\n",
    "'#3 @ 5,5: 2x2']\n",
    "\n",
    "import numpy as np\n",
    "\n",
    "\n",
    "matrix = np.zeros((8,8))\n",
    "\n",
    "dict1 = {}\n",
    "for i in data:\n",
    "    dict1[i.split(':')[0]] = i.split(':')[1]\n",
    "\n",
    "print(dict1)\n",
    "print(matrix)\n",
    "index_counter = 0\n",
    "print()\n",
    "for i in dict1.keys():\n",
    "    index_counter +=1\n",
    "    co_ordinates = i.split('@')[1]\n",
    "    if matrix[int(co_ordinates.split(',')[1])][int(co_ordinates.split(',')[0])] == 0:\n",
    "        matrix[int(co_ordinates.split(',')[1])][int(co_ordinates.split(',')[0])] = index_counter\n",
    "\n",
    "print(matrix)\n",
    "        \n",
    "        "
   ]
  },
  {
   "cell_type": "code",
   "execution_count": 31,
   "metadata": {},
   "outputs": [
    {
     "name": "stdout",
     "output_type": "stream",
     "text": [
      "!!!!\n",
      "!!!!\n",
      "!!!!\n",
      "!!!!\n"
     ]
    }
   ],
   "source": [
    "# make a 4x4 matrix given string 4x4\n",
    "import numpy as np\n",
    "\n",
    "def makematrix(matrix,printer):\n",
    "    row = int(matrix.split('x')[0])\n",
    "    colmn = int(matrix.split('x')[1])\n",
    "    for i in range(row):\n",
    "        for j in range(colmn):\n",
    "            print(printer,end='')\n",
    "        print()\n",
    "\n",
    "mat = '4x4'\n",
    "embed = np.zeros((8,8))\n",
    "makematrix(embed,mat,\"!\")"
   ]
  },
  {
   "cell_type": "code",
   "execution_count": null,
   "metadata": {},
   "outputs": [],
   "source": []
  },
  {
   "cell_type": "code",
   "execution_count": null,
   "metadata": {},
   "outputs": [],
   "source": []
  }
 ],
 "metadata": {
  "kernelspec": {
   "display_name": "Python 3",
   "language": "python",
   "name": "python3"
  },
  "language_info": {
   "codemirror_mode": {
    "name": "ipython",
    "version": 3
   },
   "file_extension": ".py",
   "mimetype": "text/x-python",
   "name": "python",
   "nbconvert_exporter": "python",
   "pygments_lexer": "ipython3",
   "version": "3.7.0"
  }
 },
 "nbformat": 4,
 "nbformat_minor": 2
}
