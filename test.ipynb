{
 "cells": [
  {
   "cell_type": "code",
   "execution_count": 1,
   "metadata": {},
   "outputs": [
    {
     "data": {
      "text/plain": [
       "\"\\ninput: dabAcCaCBAcCcaDA\\n\\ndabAcCaCBAcCcaDA  The first 'cC' is removed.\\ndabAaCBAcCcaDA    This creates 'Aa', which is removed.\\ndabCBAcCcaDA      Either 'cC' or 'Cc' are removed (the result is the same).\\ndabCBAcaDA        No further actions can be taken.\\n\\noutput: dabCBAcaDA (actully then length of this)\\n\""
      ]
     },
     "execution_count": 1,
     "metadata": {},
     "output_type": "execute_result"
    }
   ],
   "source": [
    "\"\"\"\n",
    "input: dabAcCaCBAcCcaDA\n",
    "\n",
    "dabAcCaCBAcCcaDA  The first 'cC' is removed.\n",
    "dabAaCBAcCcaDA    This creates 'Aa', which is removed.\n",
    "dabCBAcCcaDA      Either 'cC' or 'Cc' are removed (the result is the same).\n",
    "dabCBAcaDA        No further actions can be taken.\n",
    "\n",
    "output: dabCBAcaDA (actully then length of this)\n",
    "\"\"\""
   ]
  },
  {
   "cell_type": "code",
   "execution_count": 11,
   "metadata": {},
   "outputs": [
    {
     "name": "stdout",
     "output_type": "stream",
     "text": [
      "16\n",
      "16\n",
      "16\n",
      "['d', 'a', 'b', 'A', 'c', 'a', 'C', 'B', 'A', 'c', 'c', 'a', 'D', 'A']\n"
     ]
    }
   ],
   "source": [
    "def breaker(data):\n",
    "    len_data = len(data)\n",
    "    for i in range(len_data):\n",
    "        try:\n",
    "            if data[i] == data[i+1].lower() or data[i] == data[i+1].upper():\n",
    "                del data[i+1]\n",
    "        except IndexError:\n",
    "            return len_data, data\n",
    "    \n",
    "\n",
    "data = 'dabAcCaCBAcCcaDA'\n",
    "data = list(data)\n",
    "\n",
    "while True:\n",
    "    len_data = len(data)\n",
    "    print(len_data)\n",
    "    len2_data,data1 = breaker(data)\n",
    "    print(len2_data)\n",
    "    data = data1\n",
    "    if len_data == len2_data:\n",
    "        break\n",
    "print(data)"
   ]
  },
  {
   "cell_type": "code",
   "execution_count": null,
   "metadata": {},
   "outputs": [],
   "source": []
  }
 ],
 "metadata": {
  "kernelspec": {
   "display_name": "Python 3",
   "language": "python",
   "name": "python3"
  },
  "language_info": {
   "codemirror_mode": {
    "name": "ipython",
    "version": 3
   },
   "file_extension": ".py",
   "mimetype": "text/x-python",
   "name": "python",
   "nbconvert_exporter": "python",
   "pygments_lexer": "ipython3",
   "version": "3.7.0"
  }
 },
 "nbformat": 4,
 "nbformat_minor": 2
}
