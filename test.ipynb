{
 "cells": [
  {
   "cell_type": "code",
   "execution_count": 1,
   "metadata": {},
   "outputs": [
    {
     "data": {
      "text/plain": [
       "\"\\ninput: dabAcCaCBAcCcaDA\\n\\ndabAcCaCBAcCcaDA  The first 'cC' is removed.\\ndabAaCBAcCcaDA    This creates 'Aa', which is removed.\\ndabCBAcCcaDA      Either 'cC' or 'Cc' are removed (the result is the same).\\ndabCBAcaDA        No further actions can be taken.\\n\\noutput: dabCBAcaDA (actully then length of this)\\n\""
      ]
     },
     "execution_count": 1,
     "metadata": {},
     "output_type": "execute_result"
    }
   ],
   "source": [
    "\"\"\"\n",
    "input:\n",
    "\n",
    "1, 1\n",
    "1, 6\n",
    "8, 3\n",
    "3, 4\n",
    "5, 5\n",
    "8, 9\n",
    "\n",
    "\n",
    "\n",
    "output: \n",
    "aaaaa.cccc\n",
    "aAaaa.cccc\n",
    "aaaddecccc\n",
    "aadddeccCc\n",
    "..dDdeeccc\n",
    "bb.deEeecc\n",
    "bBb.eeee..\n",
    "bbb.eeefff\n",
    "bbb.eeffff\n",
    "bbb.ffffFf\n",
    "\"\"\""
   ]
  },
  {
   "cell_type": "code",
   "execution_count": 11,
   "metadata": {},
   "outputs": [
    {
     "name": "stdout",
     "output_type": "stream",
     "text": [
      "<map object at 0x7f70204cfa90>\n"
     ]
    }
   ],
   "source": [
    "data = '1,1'\n",
    "data = map(int,data.split(','))\n",
    "print(data)"
   ]
  },
  {
   "cell_type": "code",
   "execution_count": null,
   "metadata": {},
   "outputs": [],
   "source": []
  }
 ],
 "metadata": {
  "kernelspec": {
   "display_name": "Python 3",
   "language": "python",
   "name": "python3"
  },
  "language_info": {
   "codemirror_mode": {
    "name": "ipython",
    "version": 3
   },
   "file_extension": ".py",
   "mimetype": "text/x-python",
   "name": "python",
   "nbconvert_exporter": "python",
   "pygments_lexer": "ipython3",
   "version": "3.7.0"
  }
 },
 "nbformat": 4,
 "nbformat_minor": 2
}
