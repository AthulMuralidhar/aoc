{
 "cells": [
  {
   "cell_type": "code",
   "execution_count": 3,
   "metadata": {},
   "outputs": [
    {
     "data": {
      "text/markdown": [
       "\n",
       "output:\n",
       "gaurd number: 10,  minutes slept = 24"
      ],
      "text/plain": [
       "<IPython.core.display.Markdown object>"
      ]
     },
     "metadata": {},
     "output_type": "display_data"
    }
   ],
   "source": [
    "%%markdown\n",
    "\n",
    "output:\n",
    "gaurd number: 10,  minutes slept = 24"
   ]
  },
  {
   "cell_type": "code",
   "execution_count": 13,
   "metadata": {
    "scrolled": false
   },
   "outputs": [
    {
     "name": "stdout",
     "output_type": "stream",
     "text": [
      "[('Guard #10 begins shift', datetime.time(0, 5), datetime.timedelta(seconds=1200)), ('Guard #10 begins shift', datetime.time(0, 30), datetime.timedelta(seconds=1500)), ('Guard #99 begins shift', datetime.time(0, 40), datetime.timedelta(seconds=600)), ('Guard #10 begins shift', datetime.time(0, 24), datetime.timedelta(seconds=300)), ('Guard #99 begins shift', datetime.time(0, 36), datetime.timedelta(seconds=600)), ('Guard #99 begins shift', datetime.time(0, 45), datetime.timedelta(seconds=600))]\n",
      "\n",
      "{'Guard #99 begins shift', 'Guard #10 begins shift'}\n",
      "\n",
      "[('Guard #99 begins shift', datetime.timedelta(seconds=1799, microseconds=999995)), ('Guard #10 begins shift', datetime.timedelta(seconds=2999, microseconds=999999))]\n"
     ]
    }
   ],
   "source": [
    "from datetime import datetime\n",
    "import numpy as np\n",
    "\n",
    "data = []\n",
    "with open('inp.txt','r') as file:\n",
    "    for i in file:\n",
    "        i = i.strip()\n",
    "        i = i.split()\n",
    "        date = datetime.strptime(\"\".join(i[:2]),\"[%Y-%m-%d%H:%M]\")\n",
    "        data.append((date,\" \".join(i[2:])))\n",
    "#         break\n",
    "#         print(i.split('Guard'))\n",
    "#         date = datetime.strptime(i.split('Guard')[0],\"[%Y-%m-%d %H:%M]\")\n",
    "data = sorted(data)\n",
    "# print(data)\n",
    "# print()\n",
    "\n",
    "sleep_time = []\n",
    "guard_names = []\n",
    "time_counter = 0\n",
    "\n",
    "for i in data:\n",
    "    j = i[1]\n",
    "    if j.find(\"Guard\") is not -1:\n",
    "        name = j\n",
    "        guard_names.append(j)\n",
    "    if j.find(\"falls asleep\") is not -1:\n",
    "        start_min = i[0].time()\n",
    "        time_counter = i[0]\n",
    "    if j.find(\"wakes up\") is not -1:\n",
    "        time_counter = i[0] - time_counter  #assuming that the data is sorted!!\n",
    "#         total_time += time_counter \n",
    "        sleep_time.append((name,start_min,time_counter))\n",
    "        time_counter = 0\n",
    "\n",
    "# sleep_time = (name of gaurd, time they fall asleep, sleep duration)\n",
    "guard_names = set(guard_names)\n",
    "print(sleep_time)\n",
    "print()\n",
    "print(guard_names)\n",
    "print()\n",
    "cumulative_sleep_time = []\n",
    "\n",
    "for i in guard_names:\n",
    "    cum_sum = datetime.now()-datetime.now()\n",
    "    for j,k,l in sleep_time:\n",
    "        if i == j:\n",
    "            cum_sum +=l\n",
    "    cumulative_sleep_time.append((i,cum_sum))\n",
    "    \n",
    "print(cumulative_sleep_time)"
   ]
  },
  {
   "cell_type": "code",
   "execution_count": null,
   "metadata": {},
   "outputs": [],
   "source": []
  }
 ],
 "metadata": {
  "kernelspec": {
   "display_name": "Python 3",
   "language": "python",
   "name": "python3"
  },
  "language_info": {
   "codemirror_mode": {
    "name": "ipython",
    "version": 3
   },
   "file_extension": ".py",
   "mimetype": "text/x-python",
   "name": "python",
   "nbconvert_exporter": "python",
   "pygments_lexer": "ipython3",
   "version": "3.7.0"
  }
 },
 "nbformat": 4,
 "nbformat_minor": 2
}
