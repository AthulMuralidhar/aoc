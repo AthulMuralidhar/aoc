{
 "cells": [
  {
   "cell_type": "code",
   "execution_count": 3,
   "metadata": {},
   "outputs": [
    {
     "data": {
      "text/markdown": [
       "\n",
       "output:\n",
       "gaurd number: 10,  minutes slept = 24"
      ],
      "text/plain": [
       "<IPython.core.display.Markdown object>"
      ]
     },
     "metadata": {},
     "output_type": "display_data"
    }
   ],
   "source": [
    "%%markdown\n",
    "\n",
    "output:\n",
    "gaurd number: 10,  minutes slept = 24"
   ]
  },
  {
   "cell_type": "code",
   "execution_count": 29,
   "metadata": {
    "scrolled": false
   },
   "outputs": [
    {
     "name": "stdout",
     "output_type": "stream",
     "text": [
      "[(datetime.datetime(1518, 11, 1, 0, 0), 'Guard #10 begins shift'), (datetime.datetime(1518, 11, 1, 0, 5), 'falls asleep'), (datetime.datetime(1518, 11, 1, 0, 25), 'wakes up'), (datetime.datetime(1518, 11, 1, 0, 30), 'falls asleep'), (datetime.datetime(1518, 11, 1, 0, 55), 'wakes up'), (datetime.datetime(1518, 11, 1, 23, 58), 'Guard #99 begins shift'), (datetime.datetime(1518, 11, 2, 0, 40), 'falls asleep'), (datetime.datetime(1518, 11, 2, 0, 50), 'wakes up'), (datetime.datetime(1518, 11, 3, 0, 5), 'Guard #10 begins shift'), (datetime.datetime(1518, 11, 3, 0, 24), 'falls asleep'), (datetime.datetime(1518, 11, 3, 0, 29), 'wakes up'), (datetime.datetime(1518, 11, 4, 0, 2), 'Guard #99 begins shift'), (datetime.datetime(1518, 11, 4, 0, 36), 'falls asleep'), (datetime.datetime(1518, 11, 4, 0, 46), 'wakes up'), (datetime.datetime(1518, 11, 5, 0, 3), 'Guard #99 begins shift'), (datetime.datetime(1518, 11, 5, 0, 45), 'falls asleep'), (datetime.datetime(1518, 11, 5, 0, 55), 'wakes up')]\n",
      "\n",
      "Guard #10 begins shift 00:05:00 0:20:00\n",
      "Guard #10 begins shift 00:30:00 0:25:00\n",
      "Guard #99 begins shift 00:40:00 0:10:00\n",
      "Guard #10 begins shift 00:24:00 0:05:00\n",
      "Guard #99 begins shift 00:36:00 0:10:00\n",
      "Guard #99 begins shift 00:45:00 0:10:00\n"
     ]
    }
   ],
   "source": [
    "from datetime import datetime\n",
    "import numpy as np\n",
    "\n",
    "data = []\n",
    "with open('inp.txt','r') as file:\n",
    "    for i in file:\n",
    "        i = i.strip()\n",
    "        i = i.split()\n",
    "        date = datetime.strptime(\"\".join(i[:2]),\"[%Y-%m-%d%H:%M]\")\n",
    "        data.append((date,\" \".join(i[2:])))\n",
    "#         break\n",
    "#         print(i.split('Guard'))\n",
    "#         date = datetime.strptime(i.split('Guard')[0],\"[%Y-%m-%d %H:%M]\")\n",
    "data = sorted(data)\n",
    "print(data)\n",
    "print()\n",
    "\n",
    "sleep_time = []\n",
    "time_counter = 0\n",
    "\n",
    "for i in data:\n",
    "    j = i[1]\n",
    "    if j.find(\"Guard\") is not -1:\n",
    "        name = j\n",
    "    if j.find(\"falls asleep\") is not -1:\n",
    "        start_min = i[0].time()\n",
    "        time_counter = i[0]\n",
    "    if j.find(\"wakes up\") is not -1:\n",
    "        time_counter = i[0] - time_counter  #assuming that the data is sorted!!\n",
    "        total_time += time_counter \n",
    "        sleep_time.append((name,start_min,time_counter))\n",
    "        time_counter = 0\n",
    "# sleep_time = (name of gaurd, time they fall asleep, sleep duration)\n",
    "for i,j,k in sleep_time:\n",
    "    print(i,j,k)"
   ]
  },
  {
   "cell_type": "code",
   "execution_count": null,
   "metadata": {},
   "outputs": [],
   "source": []
  }
 ],
 "metadata": {
  "kernelspec": {
   "display_name": "Python 3",
   "language": "python",
   "name": "python3"
  },
  "language_info": {
   "codemirror_mode": {
    "name": "ipython",
    "version": 3
   },
   "file_extension": ".py",
   "mimetype": "text/x-python",
   "name": "python",
   "nbconvert_exporter": "python",
   "pygments_lexer": "ipython3",
   "version": "3.7.0"
  }
 },
 "nbformat": 4,
 "nbformat_minor": 2
}
