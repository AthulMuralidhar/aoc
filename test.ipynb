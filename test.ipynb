{
 "cells": [
  {
   "cell_type": "code",
   "execution_count": 3,
   "metadata": {},
   "outputs": [
    {
     "data": {
      "text/markdown": [
       "\n",
       "output:\n",
       "gaurd number: 10,  minutes slept = 24"
      ],
      "text/plain": [
       "<IPython.core.display.Markdown object>"
      ]
     },
     "metadata": {},
     "output_type": "display_data"
    }
   ],
   "source": [
    "%%markdown\n",
    "\n",
    "output:\n",
    "gaurd number: 10,  minutes slept = 24"
   ]
  },
  {
   "cell_type": "code",
   "execution_count": 20,
   "metadata": {},
   "outputs": [
    {
     "name": "stdout",
     "output_type": "stream",
     "text": [
      "[(datetime.datetime(1518, 11, 1, 0, 5), 'falls asleep')]\n"
     ]
    }
   ],
   "source": [
    "from datetime import datetime\n",
    "\n",
    "data = []\n",
    "with open('inp.txt','r') as file:\n",
    "    for i in file:\n",
    "        i = i.strip()\n",
    "        i = i.split()\n",
    "        date = datetime.strptime(\"\".join(i[:2]),\"[%Y-%m-%d%H:%M]\")\n",
    "        data.append((date,\" \".join(i[2:])))\n",
    "        break\n",
    "#         print(i.split('Guard'))\n",
    "#         date = datetime.strptime(i.split('Guard')[0],\"[%Y-%m-%d %H:%M]\")\n",
    "print(data)"
   ]
  },
  {
   "cell_type": "code",
   "execution_count": null,
   "metadata": {},
   "outputs": [],
   "source": []
  }
 ],
 "metadata": {
  "kernelspec": {
   "display_name": "Python 3",
   "language": "python",
   "name": "python3"
  },
  "language_info": {
   "codemirror_mode": {
    "name": "ipython",
    "version": 3
   },
   "file_extension": ".py",
   "mimetype": "text/x-python",
   "name": "python",
   "nbconvert_exporter": "python",
   "pygments_lexer": "ipython3",
   "version": "3.7.0"
  }
 },
 "nbformat": 4,
 "nbformat_minor": 2
}
